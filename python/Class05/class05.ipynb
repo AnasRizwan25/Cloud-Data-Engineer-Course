{
 "cells": [
  {
   "cell_type": "markdown",
   "metadata": {},
   "source": [
    "## Dictionary\n",
    "\n",
    "- Multiple collection of data\n",
    "- Store in key:value pair"
   ]
  },
  {
   "cell_type": "code",
   "execution_count": 4,
   "metadata": {},
   "outputs": [
    {
     "data": {
      "text/plain": [
       "19"
      ]
     },
     "execution_count": 4,
     "metadata": {},
     "output_type": "execute_result"
    }
   ],
   "source": [
    "customer = {\n",
    "  \"name\":\"Anas\",\n",
    "  \"father_name\": \"Rizwan\",\n",
    "  \"age\":19,\n",
    "  \"address\":\"Malir\"\n",
    "}\n",
    "\n",
    "customer[\"age\"]"
   ]
  },
  {
   "cell_type": "code",
   "execution_count": 5,
   "metadata": {},
   "outputs": [
    {
     "data": {
      "text/plain": [
       "{'name': 'Anas',\n",
       " 'father_name': 'Rizwan',\n",
       " 'age': 19,\n",
       " 'address': 'Malir',\n",
       " 'brother': 'ali'}"
      ]
     },
     "execution_count": 5,
     "metadata": {},
     "output_type": "execute_result"
    }
   ],
   "source": [
    "customer[\"brother\"] = \"ali\"\n",
    "customer"
   ]
  },
  {
   "cell_type": "code",
   "execution_count": 6,
   "metadata": {},
   "outputs": [
    {
     "data": {
      "text/plain": [
       "{'name': 'Anas', 'father_name': 'Rizwan', 'age': 19, 'address': 'Malir'}"
      ]
     },
     "execution_count": 6,
     "metadata": {},
     "output_type": "execute_result"
    }
   ],
   "source": [
    "del customer[\"brother\"]\n",
    "customer"
   ]
  },
  {
   "cell_type": "code",
   "execution_count": 7,
   "metadata": {},
   "outputs": [
    {
     "data": {
      "text/plain": [
       "'n'"
      ]
     },
     "execution_count": 7,
     "metadata": {},
     "output_type": "execute_result"
    }
   ],
   "source": [
    "customer[\"name\"][1]"
   ]
  },
  {
   "cell_type": "code",
   "execution_count": 8,
   "metadata": {},
   "outputs": [
    {
     "data": {
      "text/plain": [
       "[{'name': 'Anas', 'father_name': 'Rizwan', 'age': 19, 'address': 'Malir'},\n",
       " {'name': 'Ali', 'father_name': 'Abrar', 'age': 20, 'address': 'DHA'}]"
      ]
     },
     "execution_count": 8,
     "metadata": {},
     "output_type": "execute_result"
    }
   ],
   "source": [
    "customer = {\n",
    "  \"name\":\"Anas\",\n",
    "  \"father_name\": \"Rizwan\",\n",
    "  \"age\":19,\n",
    "  \"address\":\"Malir\"\n",
    "}\n",
    "customer1 = {\n",
    "  \"name\":\"Ali\",\n",
    "  \"father_name\": \"Abrar\",\n",
    "  \"age\":20,\n",
    "  \"address\":\"DHA\"\n",
    "}\n",
    "\n",
    "list1 = [customer,customer1]\n",
    "\n",
    "list1\n"
   ]
  },
  {
   "cell_type": "code",
   "execution_count": 9,
   "metadata": {},
   "outputs": [
    {
     "data": {
      "text/plain": [
       "{'customer_100': {'name': 'Ali',\n",
       "  'father_name': 'Abrar',\n",
       "  'age': 19,\n",
       "  'address': 'DHA'},\n",
       " 'customer_120': {'name': 'Anas', 'father_name': 'Rizwan', 'age': 20}}"
      ]
     },
     "execution_count": 9,
     "metadata": {},
     "output_type": "execute_result"
    }
   ],
   "source": [
    "customer = {\n",
    "  \"customer_100\": {\n",
    "    \"name\":\"Ali\",\n",
    "    \"father_name\": \"Abrar\",\n",
    "    \"age\":19,\n",
    "    \"address\":\"DHA\"\n",
    "  },\n",
    "  \"customer_120\":{\n",
    "    \"name\":\"Anas\",\n",
    "    \"father_name\": \"Rizwan\",\n",
    "    \"age\":20,\n",
    "  }\n",
    "}\n",
    "\n",
    "customer[\"customer_120\"][\"name\"] \n",
    "customer"
   ]
  },
  {
   "cell_type": "markdown",
   "metadata": {},
   "source": [
    "- Dictionary support multiple data types"
   ]
  },
  {
   "cell_type": "code",
   "execution_count": 10,
   "metadata": {},
   "outputs": [],
   "source": [
    "my_dict = {\n",
    "  \"name\":\"Anas\",\n",
    "  \"classEnrolled\" : True,\n",
    "  \"age\" : 19,\n",
    "  \"cgpa\" :3.76\n",
    "}\n",
    "\n"
   ]
  },
  {
   "cell_type": "code",
   "execution_count": 11,
   "metadata": {},
   "outputs": [
    {
     "data": {
      "text/plain": [
       "{'name': 'Ali', 'father_name': 'Abrar', 'age': 19, 'address': 'DHA'}"
      ]
     },
     "execution_count": 11,
     "metadata": {},
     "output_type": "execute_result"
    }
   ],
   "source": [
    "new_customer = {\n",
    "  100:customer[\"customer_100\"],\n",
    "  200:customer[\"customer_120\"],\n",
    "  False:customer[\"customer_100\"][\"name\"]\n",
    "}\n",
    "new_customer[100]\n"
   ]
  },
  {
   "cell_type": "code",
   "execution_count": 12,
   "metadata": {},
   "outputs": [
    {
     "name": "stdout",
     "output_type": "stream",
     "text": [
      "name\n",
      "father_name\n",
      "age\n",
      "address\n"
     ]
    }
   ],
   "source": [
    "for key in new_customer[100].keys():\n",
    "  print(f\"{key}\")"
   ]
  },
  {
   "cell_type": "code",
   "execution_count": 13,
   "metadata": {},
   "outputs": [
    {
     "name": "stdout",
     "output_type": "stream",
     "text": [
      "Ali\n",
      "Abrar\n",
      "19\n",
      "DHA\n"
     ]
    }
   ],
   "source": [
    "for value in new_customer[100].values():\n",
    "  print(f\"{value}\")"
   ]
  },
  {
   "cell_type": "code",
   "execution_count": 14,
   "metadata": {},
   "outputs": [
    {
     "name": "stdout",
     "output_type": "stream",
     "text": [
      "('name', 'Ali')\n",
      "('father_name', 'Abrar')\n",
      "('age', 19)\n",
      "('address', 'DHA')\n"
     ]
    }
   ],
   "source": [
    "for temp in new_customer[100].items():\n",
    "  print(temp) #it give tuple"
   ]
  },
  {
   "cell_type": "code",
   "execution_count": 15,
   "metadata": {},
   "outputs": [
    {
     "name": "stdout",
     "output_type": "stream",
     "text": [
      "name: Ali\n",
      "father_name: Abrar\n",
      "age: 19\n",
      "address: DHA\n"
     ]
    }
   ],
   "source": [
    "for key,value in new_customer[100].items():\n",
    "  print(f\"{key}: {value}\")"
   ]
  },
  {
   "cell_type": "code",
   "execution_count": 16,
   "metadata": {},
   "outputs": [
    {
     "name": "stdout",
     "output_type": "stream",
     "text": [
      "Help on dict object:\n",
      "\n",
      "class dict(object)\n",
      " |  dict() -> new empty dictionary\n",
      " |  dict(mapping) -> new dictionary initialized from a mapping object's\n",
      " |      (key, value) pairs\n",
      " |  dict(iterable) -> new dictionary initialized as if via:\n",
      " |      d = {}\n",
      " |      for k, v in iterable:\n",
      " |          d[k] = v\n",
      " |  dict(**kwargs) -> new dictionary initialized with the name=value pairs\n",
      " |      in the keyword argument list.  For example:  dict(one=1, two=2)\n",
      " |\n",
      " |  Built-in subclasses:\n",
      " |      StgDict\n",
      " |\n",
      " |  Methods defined here:\n",
      " |\n",
      " |  __contains__(self, key, /)\n",
      " |      True if the dictionary has the specified key, else False.\n",
      " |\n",
      " |  __delitem__(self, key, /)\n",
      " |      Delete self[key].\n",
      " |\n",
      " |  __eq__(self, value, /)\n",
      " |      Return self==value.\n",
      " |\n",
      " |  __ge__(self, value, /)\n",
      " |      Return self>=value.\n",
      " |\n",
      " |  __getattribute__(self, name, /)\n",
      " |      Return getattr(self, name).\n",
      " |\n",
      " |  __getitem__(self, key, /)\n",
      " |      Return self[key].\n",
      " |\n",
      " |  __gt__(self, value, /)\n",
      " |      Return self>value.\n",
      " |\n",
      " |  __init__(self, /, *args, **kwargs)\n",
      " |      Initialize self.  See help(type(self)) for accurate signature.\n",
      " |\n",
      " |  __ior__(self, value, /)\n",
      " |      Return self|=value.\n",
      " |\n",
      " |  __iter__(self, /)\n",
      " |      Implement iter(self).\n",
      " |\n",
      " |  __le__(self, value, /)\n",
      " |      Return self<=value.\n",
      " |\n",
      " |  __len__(self, /)\n",
      " |      Return len(self).\n",
      " |\n",
      " |  __lt__(self, value, /)\n",
      " |      Return self<value.\n",
      " |\n",
      " |  __ne__(self, value, /)\n",
      " |      Return self!=value.\n",
      " |\n",
      " |  __or__(self, value, /)\n",
      " |      Return self|value.\n",
      " |\n",
      " |  __repr__(self, /)\n",
      " |      Return repr(self).\n",
      " |\n",
      " |  __reversed__(self, /)\n",
      " |      Return a reverse iterator over the dict keys.\n",
      " |\n",
      " |  __ror__(self, value, /)\n",
      " |      Return value|self.\n",
      " |\n",
      " |  __setitem__(self, key, value, /)\n",
      " |      Set self[key] to value.\n",
      " |\n",
      " |  __sizeof__(...)\n",
      " |      D.__sizeof__() -> size of D in memory, in bytes\n",
      " |\n",
      " |  clear(...)\n",
      " |      D.clear() -> None.  Remove all items from D.\n",
      " |\n",
      " |  copy(...)\n",
      " |      D.copy() -> a shallow copy of D\n",
      " |\n",
      " |  get(self, key, default=None, /)\n",
      " |      Return the value for key if key is in the dictionary, else default.\n",
      " |\n",
      " |  items(...)\n",
      " |      D.items() -> a set-like object providing a view on D's items\n",
      " |\n",
      " |  keys(...)\n",
      " |      D.keys() -> a set-like object providing a view on D's keys\n",
      " |\n",
      " |  pop(...)\n",
      " |      D.pop(k[,d]) -> v, remove specified key and return the corresponding value.\n",
      " |\n",
      " |      If the key is not found, return the default if given; otherwise,\n",
      " |      raise a KeyError.\n",
      " |\n",
      " |  popitem(self, /)\n",
      " |      Remove and return a (key, value) pair as a 2-tuple.\n",
      " |\n",
      " |      Pairs are returned in LIFO (last-in, first-out) order.\n",
      " |      Raises KeyError if the dict is empty.\n",
      " |\n",
      " |  setdefault(self, key, default=None, /)\n",
      " |      Insert key with a value of default if key is not in the dictionary.\n",
      " |\n",
      " |      Return the value for key if key is in the dictionary, else default.\n",
      " |\n",
      " |  update(...)\n",
      " |      D.update([E, ]**F) -> None.  Update D from dict/iterable E and F.\n",
      " |      If E is present and has a .keys() method, then does:  for k in E: D[k] = E[k]\n",
      " |      If E is present and lacks a .keys() method, then does:  for k, v in E: D[k] = v\n",
      " |      In either case, this is followed by: for k in F:  D[k] = F[k]\n",
      " |\n",
      " |  values(...)\n",
      " |      D.values() -> an object providing a view on D's values\n",
      " |\n",
      " |  ----------------------------------------------------------------------\n",
      " |  Class methods defined here:\n",
      " |\n",
      " |  __class_getitem__(...) from builtins.type\n",
      " |      See PEP 585\n",
      " |\n",
      " |  fromkeys(iterable, value=None, /) from builtins.type\n",
      " |      Create a new dictionary with keys from iterable and values set to value.\n",
      " |\n",
      " |  ----------------------------------------------------------------------\n",
      " |  Static methods defined here:\n",
      " |\n",
      " |  __new__(*args, **kwargs) from builtins.type\n",
      " |      Create and return a new object.  See help(type) for accurate signature.\n",
      " |\n",
      " |  ----------------------------------------------------------------------\n",
      " |  Data and other attributes defined here:\n",
      " |\n",
      " |  __hash__ = None\n",
      "\n"
     ]
    }
   ],
   "source": [
    "help(new_customer[100])"
   ]
  },
  {
   "cell_type": "code",
   "execution_count": 17,
   "metadata": {},
   "outputs": [
    {
     "name": "stdout",
     "output_type": "stream",
     "text": [
      "\u001b[1;31mType:\u001b[0m        dict\n",
      "\u001b[1;31mString form:\u001b[0m {'name': 'Ali', 'father_name': 'Abrar', 'age': 19, 'address': 'DHA'}\n",
      "\u001b[1;31mLength:\u001b[0m      4\n",
      "\u001b[1;31mDocstring:\u001b[0m  \n",
      "dict() -> new empty dictionary\n",
      "dict(mapping) -> new dictionary initialized from a mapping object's\n",
      "    (key, value) pairs\n",
      "dict(iterable) -> new dictionary initialized as if via:\n",
      "    d = {}\n",
      "    for k, v in iterable:\n",
      "        d[k] = v\n",
      "dict(**kwargs) -> new dictionary initialized with the name=value pairs\n",
      "    in the keyword argument list.  For example:  dict(one=1, two=2)"
     ]
    }
   ],
   "source": [
    "new_customer[100]?"
   ]
  },
  {
   "cell_type": "markdown",
   "metadata": {},
   "source": [
    "### List of dictionary"
   ]
  },
  {
   "cell_type": "code",
   "execution_count": 18,
   "metadata": {},
   "outputs": [
    {
     "name": "stdout",
     "output_type": "stream",
     "text": [
      "first_name: yousha\n",
      "first_name: hamza\n",
      "first_name: qasim\n",
      "Last_name: ahmed\n",
      "Last_name: abrar\n",
      "Last_name: latif\n",
      "address: malir\n",
      "address: dha\n",
      "address: north nazimabad\n",
      "order_place: mobile\n",
      "order_place: laptop\n",
      "order_place: pc\n",
      "order_items: 10\n",
      "order_items: 20\n",
      "order_items: 30\n"
     ]
    }
   ],
   "source": [
    "new_list_dict = {\n",
    "  \"first_name\":  [\"yousha\",\"hamza\",\"qasim\"],\n",
    "  \"Last_name\":   [\"ahmed\",\"abrar\",\"latif\"],\n",
    "  \"address\":     [\"malir\",\"dha\",\"north nazimabad\"],\n",
    "  \"order_place\": [\"mobile\",\"laptop\",\"pc\"],\n",
    "  \"order_items\": [10,20,30]\n",
    "}\n",
    "\n",
    "for key,value in new_list_dict.items():\n",
    "  partLen = len(value)\n",
    "  for i in range(partLen):\n",
    "    print(f\"{key}: {value[i]}\")"
   ]
  },
  {
   "cell_type": "code",
   "execution_count": 19,
   "metadata": {},
   "outputs": [
    {
     "name": "stdout",
     "output_type": "stream",
     "text": [
      "Found at key order_place index 0\n"
     ]
    }
   ],
   "source": [
    "for key,value in new_list_dict.items():\n",
    "  partLen = len(value)\n",
    "  for i in range(partLen):\n",
    "    if(value[i] == \"mobile\"):\n",
    "      print(f\"Found at key {key} index {i}\")"
   ]
  },
  {
   "cell_type": "code",
   "execution_count": 20,
   "metadata": {},
   "outputs": [
    {
     "name": "stdout",
     "output_type": "stream",
     "text": [
      "first name ahmed\n",
      "last name ali\n",
      "address Malir\n",
      "\n",
      "first name abrar\n",
      "last name rizwan\n",
      "address landhi\n",
      "\n"
     ]
    }
   ],
   "source": [
    "customers = [\n",
    "  {\n",
    "    \"first name\":\"ahmed\",\n",
    "    \"last name\": \"ali\",\n",
    "    \"address\": \"Malir\",\n",
    "  },\n",
    "  {\n",
    "    \"first name\":\"abrar\",\n",
    "    \"last name\": \"rizwan\",\n",
    "    \"address\": \"landhi\",\n",
    "  },\n",
    "]\n",
    "\n",
    "for i in range(len(customers)):\n",
    "  for key,value in customers[i].items():\n",
    "   print(key,value)\n",
    "  print()\n"
   ]
  },
  {
   "cell_type": "code",
   "execution_count": 21,
   "metadata": {},
   "outputs": [
    {
     "data": {
      "text/plain": [
       "[{'first name': 'ahmed', 'last name': 'ali', 'address': 'Malir'},\n",
       " {'first name': 'abrar', 'last name': 'rizwan', 'address': 'landhi'},\n",
       " {'first name': 'ali', 'last name': 'anas', 'address': 'north nazimabad'}]"
      ]
     },
     "execution_count": 21,
     "metadata": {},
     "output_type": "execute_result"
    }
   ],
   "source": [
    "new_cus = {\n",
    "    \"first name\":\"ali\",\n",
    "    \"last name\": \"anas\",\n",
    "    \"address\": \"north nazimabad\",\n",
    "}\n",
    "\n",
    "new_cus1 = {\n",
    "    \"first name\":\"rizwan\",\n",
    "    \"last name\": \"latif\",\n",
    "    \"address\": \"korangi\",\n",
    "}\n",
    "\n",
    "customers.append(new_cus)\n",
    "# customers[3] = new_cus\n",
    "customers"
   ]
  },
  {
   "cell_type": "code",
   "execution_count": 22,
   "metadata": {},
   "outputs": [],
   "source": [
    "# for i in range(len(customers)):\n",
    "#   if(i > 0):\n",
    "#     del customers[i]\n",
    "\n",
    "# customers"
   ]
  },
  {
   "cell_type": "code",
   "execution_count": 23,
   "metadata": {},
   "outputs": [
    {
     "data": {
      "text/plain": [
       "[{'first name': 'ahmed', 'last name': 'ali', 'address': 'Malir'},\n",
       " {'first name': 'abrar', 'last name': 'rizwan', 'address': 'landhi'},\n",
       " {'first name': 'ali', 'last name': 'anas', 'address': 'north nazimabad'},\n",
       " {'first name': 'rizwan', 'last name': 'latif', 'address': 'korangi'}]"
      ]
     },
     "execution_count": 23,
     "metadata": {},
     "output_type": "execute_result"
    }
   ],
   "source": [
    "customers += [new_cus1]\n",
    "\n",
    "customers"
   ]
  },
  {
   "cell_type": "markdown",
   "metadata": {},
   "source": [
    "### dictionary maay dictionary"
   ]
  },
  {
   "cell_type": "code",
   "execution_count": 25,
   "metadata": {},
   "outputs": [
    {
     "data": {
      "text/plain": [
       "'ahmed'"
      ]
     },
     "execution_count": 25,
     "metadata": {},
     "output_type": "execute_result"
    }
   ],
   "source": [
    "users = {\n",
    "  0:{\n",
    "    \"first name\":\"ahmed\",\n",
    "    \"last name\": \"ali\",\n",
    "    \"address\": \"Malir\",\n",
    "  },\n",
    "  1:{\n",
    "    \"first name\":\"abrar\",\n",
    "    \"last name\": \"rizwan\",\n",
    "    \"address\": \"landhi\",\n",
    "  },\n",
    "  2:{\n",
    "    \"first name\":\"latif\",\n",
    "    \"last name\": \"rizwan\",\n",
    "    \"address\": \"korangi\",\n",
    "  }\n",
    "}\n",
    "\n",
    "users[0][\"first name\"]"
   ]
  },
  {
   "cell_type": "code",
   "execution_count": 34,
   "metadata": {},
   "outputs": [
    {
     "name": "stdout",
     "output_type": "stream",
     "text": [
      "Yousha\n",
      "Ahmed\n",
      "Malir\n",
      "Mobile\n",
      "10\n",
      "\n",
      "Hamza\n",
      "Abrar\n",
      "DHA\n",
      "Laptop\n",
      "20\n",
      "\n",
      "Qasim\n",
      "Latif\n",
      "North nazimabad\n",
      "PC\n",
      "30\n",
      "\n"
     ]
    }
   ],
   "source": [
    "data = {\n",
    "  \"first_name\":  [\"Yousha\",\"Hamza\",\"Qasim\"],\n",
    "  \"Last_name\":   [\"Ahmed\",\"Abrar\",\"Latif\"],\n",
    "  \"address\":     [\"Malir\",\"DHA\",\"North nazimabad\"],\n",
    "  \"order_place\": [\"Mobile\",\"Laptop\",\"PC\"],\n",
    "  \"order_items\": [10,20,30]\n",
    "}\n",
    "\n",
    "for i in range(3):\n",
    "  for value in data.values():\n",
    "    print(value[i])\n",
    "  print()\n"
   ]
  }
 ],
 "metadata": {
  "kernelspec": {
   "display_name": "Python 3",
   "language": "python",
   "name": "python3"
  },
  "language_info": {
   "codemirror_mode": {
    "name": "ipython",
    "version": 3
   },
   "file_extension": ".py",
   "mimetype": "text/x-python",
   "name": "python",
   "nbconvert_exporter": "python",
   "pygments_lexer": "ipython3",
   "version": "3.12.1"
  }
 },
 "nbformat": 4,
 "nbformat_minor": 2
}
