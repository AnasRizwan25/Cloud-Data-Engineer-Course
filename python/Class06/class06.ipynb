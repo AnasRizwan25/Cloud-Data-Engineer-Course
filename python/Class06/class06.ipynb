{
 "cells": [
  {
   "cell_type": "markdown",
   "metadata": {},
   "source": [
    "### github\n",
    "- Commands\n",
    "- git add *.csv\n",
    "- git add saylani*(specfic)\n",
    "- for file tracking to untracking (git rm --cached <file>)\n",
    "\n",
    "## Branching\n",
    "- "
   ]
  }
 ],
 "metadata": {
  "language_info": {
   "name": "python"
  }
 },
 "nbformat": 4,
 "nbformat_minor": 2
}
