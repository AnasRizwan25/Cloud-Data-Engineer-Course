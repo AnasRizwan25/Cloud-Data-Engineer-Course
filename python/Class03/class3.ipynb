{
 "cells": [
  {
   "cell_type": "markdown",
   "metadata": {},
   "source": [
    "### Conditional statement if, elif and else"
   ]
  },
  {
   "cell_type": "code",
   "execution_count": 60,
   "metadata": {},
   "outputs": [
    {
     "name": "stdout",
     "output_type": "stream",
     "text": [
      "True\n"
     ]
    }
   ],
   "source": [
    "name = \"anas\"\n",
    "age = 19\n",
    "if(name == 'anas'):\n",
    "  print(True)\n",
    "else:\n",
    "  print(False)"
   ]
  },
  {
   "cell_type": "markdown",
   "metadata": {},
   "source": [
    "### Logical operators (and, or, not)"
   ]
  },
  {
   "cell_type": "markdown",
   "metadata": {},
   "source": [
    "#### And"
   ]
  },
  {
   "cell_type": "code",
   "execution_count": 61,
   "metadata": {},
   "outputs": [
    {
     "name": "stdout",
     "output_type": "stream",
     "text": [
      "True\n"
     ]
    }
   ],
   "source": [
    "if(name == \"anas\" and age == 19):\n",
    "  print(True)\n",
    "else:\n",
    "  print(False)"
   ]
  },
  {
   "cell_type": "markdown",
   "metadata": {},
   "source": [
    "Or"
   ]
  },
  {
   "cell_type": "code",
   "execution_count": 62,
   "metadata": {},
   "outputs": [
    {
     "name": "stdout",
     "output_type": "stream",
     "text": [
      "True\n"
     ]
    }
   ],
   "source": [
    "if(name == \"anas\" or age == 25):\n",
    "  print(True)\n",
    "else:\n",
    "  print(False)"
   ]
  },
  {
   "cell_type": "markdown",
   "metadata": {},
   "source": [
    "### Not"
   ]
  },
  {
   "cell_type": "code",
   "execution_count": 63,
   "metadata": {},
   "outputs": [
    {
     "name": "stdout",
     "output_type": "stream",
     "text": [
      "False\n"
     ]
    }
   ],
   "source": [
    "if(not (age == 19)):\n",
    "  print(True)\n",
    "else:\n",
    "  print(False)"
   ]
  },
  {
   "cell_type": "markdown",
   "metadata": {},
   "source": [
    "### Input in python"
   ]
  },
  {
   "cell_type": "code",
   "execution_count": 64,
   "metadata": {},
   "outputs": [
    {
     "data": {
      "text/plain": [
       "'your weigth is 4'"
      ]
     },
     "execution_count": 64,
     "metadata": {},
     "output_type": "execute_result"
    }
   ],
   "source": [
    "weight = int(input(\"Enter your weight\"))\n",
    "f\"your weigth is {weight}\""
   ]
  },
  {
   "cell_type": "markdown",
   "metadata": {},
   "source": [
    "#### Even and odd check"
   ]
  },
  {
   "cell_type": "markdown",
   "metadata": {},
   "source": [
    "### salary questions"
   ]
  },
  {
   "cell_type": "code",
   "execution_count": 83,
   "metadata": {},
   "outputs": [
    {
     "name": "stdout",
     "output_type": "stream",
     "text": [
      "Your new salary: 3629.325\n"
     ]
    }
   ],
   "source": [
    "year = eval(input(\"Enter your years of experinance\"))\n",
    "total = 0\n",
    "\n",
    "if(year > 5):\n",
    "  salary = eval(input(\"Enter your salary\"))\n",
    "  bonus = 5/100\n",
    "  increaseBonus = salary * bonus\n",
    "  total = salary + increaseBonus\n",
    "  print(f\"Your new salary: {total}\")\n",
    "else:\n",
    "  print(f\"You have not enough experience\")"
   ]
  },
  {
   "cell_type": "markdown",
   "metadata": {},
   "source": [
    "### voting question"
   ]
  },
  {
   "cell_type": "code",
   "execution_count": 84,
   "metadata": {},
   "outputs": [
    {
     "name": "stdout",
     "output_type": "stream",
     "text": [
      "Not eligible for voting\n"
     ]
    }
   ],
   "source": [
    "age = int(input(\"Enter your age: \"))\n",
    "if(age > 17):\n",
    "  print('Eligible for voting')\n",
    "else:\n",
    "  print('Not eligible for voting')"
   ]
  },
  {
   "cell_type": "markdown",
   "metadata": {},
   "source": [
    "### multiple question"
   ]
  },
  {
   "cell_type": "code",
   "execution_count": null,
   "metadata": {},
   "outputs": [
    {
     "name": "stdout",
     "output_type": "stream",
     "text": [
      "Bye\n"
     ]
    }
   ],
   "source": [
    "table = int(input(\"Enter the number\"))\n",
    "if(table % 5 == 0):\n",
    "  print(\"Hello\")\n",
    "else:\n",
    "  print(\"Bye\")"
   ]
  },
  {
   "cell_type": "markdown",
   "metadata": {},
   "source": [
    "### grading question"
   ]
  },
  {
   "cell_type": "code",
   "execution_count": null,
   "metadata": {},
   "outputs": [
    {
     "name": "stdout",
     "output_type": "stream",
     "text": [
      "Your grade is B\n"
     ]
    }
   ],
   "source": [
    "percent = int(input(\"Enter the percentage\"))\n",
    "grade = ''\n",
    "if(percent > 80 and percent <=100):\n",
    "  grade = \"A\"\n",
    "elif(percent > 60):\n",
    "  grade = \"B\"\n",
    "elif(percent > 50):\n",
    "  grade = \"C\"\n",
    "elif(percent > 45):\n",
    "  grade = \"D\"\n",
    "elif(percent > 25):\n",
    "  grade = \"E\"\n",
    "else:\n",
    "  grade = \"F\"\n",
    "\n",
    "print(f\"Your grade is {grade}\")"
   ]
  },
  {
   "cell_type": "markdown",
   "metadata": {},
   "source": [
    "### Nested if, elif, else statement"
   ]
  },
  {
   "cell_type": "code",
   "execution_count": null,
   "metadata": {},
   "outputs": [
    {
     "name": "stdout",
     "output_type": "stream",
     "text": [
      "Even Number\n"
     ]
    }
   ],
   "source": [
    "num = int(input(\"Enter the number\"))\n",
    "\n",
    "if(num % 2 == 0):\n",
    "  print('Even Number')\n",
    "else:\n",
    "  print('Odd Number')\n",
    "  "
   ]
  },
  {
   "cell_type": "markdown",
   "metadata": {},
   "source": [
    "### saylani location question"
   ]
  },
  {
   "cell_type": "code",
   "execution_count": null,
   "metadata": {},
   "outputs": [
    {
     "name": "stdout",
     "output_type": "stream",
     "text": [
      "You can not study here\n"
     ]
    }
   ],
   "source": [
    "location = input(\"Enter the location you want\").lower()\n",
    "if(location == 'malir'):\n",
    "  courses = input(\"Enter your courses\").lower()\n",
    "  if(courses == 'web' or courses == 'mobile'):\n",
    "    print('You can study here')\n",
    "  else:\n",
    "    print('You can not study here')\n",
    "elif(location == 'paposh'):\n",
    "  courses = input(\"Enter your courses\").lower()\n",
    "  if(courses == 'web' or courses == 'mobile' or  courses == 'flutter' or courses == 'ai'):\n",
    "    print('You can study here')\n",
    "  else:\n",
    "    print('You can not study here')\n",
    "else:\n",
    "  print('Error!, Enter the right campus')"
   ]
  },
  {
   "cell_type": "markdown",
   "metadata": {},
   "source": [
    "### age nationality question"
   ]
  },
  {
   "cell_type": "code",
   "execution_count": null,
   "metadata": {},
   "outputs": [
    {
     "name": "stdout",
     "output_type": "stream",
     "text": [
      "You eligible for voting\n"
     ]
    }
   ],
   "source": [
    "nationality = input(\"Enter your nationality\").lower()\n",
    "if(nationality == 'pakistani'):\n",
    "  age = int(input(\"Enter your age\"))\n",
    "  if(age > 17):\n",
    "    print(\"You eligible for voting\")\n",
    "  else:\n",
    "    print(\"You are not eligible\") \n",
    "else:\n",
    "  print('Sorry, But you are not pakistani :(')"
   ]
  },
  {
   "cell_type": "markdown",
   "metadata": {},
   "source": [
    "### gender question"
   ]
  },
  {
   "cell_type": "code",
   "execution_count": null,
   "metadata": {},
   "outputs": [
    {
     "name": "stdout",
     "output_type": "stream",
     "text": [
      "You are kid\n"
     ]
    }
   ],
   "source": [
    "gender = input(\"Enter your gender\").lower()\n",
    "\n",
    "if(gender == \"f\"):\n",
    "  print('Work only urban areas')\n",
    "elif(gender == \"m\"):\n",
    "  age = int(input(\"Enter your age\"))\n",
    "  if(age > 0):\n",
    "    print(\"You are kid\")\n",
    "  elif(age > 20):\n",
    "    print('You can work anywhere')\n",
    "  elif(age > 40 and age <= 60):\n",
    "    print('You can work only urban area')\n",
    "  else:\n",
    "    print(\"You please retire for new generation\")\n",
    "else:\n",
    "  print('Error')"
   ]
  },
  {
   "cell_type": "markdown",
   "metadata": {},
   "source": [
    "### Comments"
   ]
  },
  {
   "cell_type": "code",
   "execution_count": null,
   "metadata": {},
   "outputs": [],
   "source": [
    "# python comment"
   ]
  },
  {
   "cell_type": "markdown",
   "metadata": {},
   "source": [
    "## List in Python\n",
    "\n",
    "- Collection of multiple data\n",
    "- It can store same data or even different "
   ]
  },
  {
   "cell_type": "code",
   "execution_count": null,
   "metadata": {},
   "outputs": [
    {
     "data": {
      "text/plain": [
       "'karachi'"
      ]
     },
     "execution_count": 49,
     "metadata": {},
     "output_type": "execute_result"
    }
   ],
   "source": [
    "cities = [\"karachi\",\"lahore\",\"islamabad\",\"rawalpindi\",\"sukhur\"]\n",
    "cities[0]"
   ]
  },
  {
   "cell_type": "code",
   "execution_count": null,
   "metadata": {},
   "outputs": [
    {
     "data": {
      "text/plain": [
       "['islamabad', 'rawalpindi']"
      ]
     },
     "execution_count": 50,
     "metadata": {},
     "output_type": "execute_result"
    }
   ],
   "source": [
    "cities[2:] #end taak value ayi gi\n",
    "cities[2:4] # 2 saay lakar 4-1=3 taak chalay ga, also called \"slicing\""
   ]
  },
  {
   "cell_type": "code",
   "execution_count": null,
   "metadata": {},
   "outputs": [
    {
     "data": {
      "text/plain": [
       "['new york', 'lahore', 'islamabad', 'rawalpindi', 'sukhur']"
      ]
     },
     "execution_count": 51,
     "metadata": {},
     "output_type": "execute_result"
    }
   ],
   "source": [
    "cities[0] = 'new york'\n",
    "cities"
   ]
  },
  {
   "cell_type": "code",
   "execution_count": null,
   "metadata": {},
   "outputs": [
    {
     "data": {
      "text/plain": [
       "['new york',\n",
       " 'lahore',\n",
       " 'islamabad',\n",
       " 'rawalpindi',\n",
       " 'sukhur',\n",
       " 'london',\n",
       " 'gujrawala']"
      ]
     },
     "execution_count": 52,
     "metadata": {},
     "output_type": "execute_result"
    }
   ],
   "source": [
    "newCity = ['london','gujrawala']\n",
    "cities = cities + newCity\n",
    "cities"
   ]
  },
  {
   "cell_type": "code",
   "execution_count": null,
   "metadata": {},
   "outputs": [
    {
     "data": {
      "text/plain": [
       "['new york',\n",
       " 'lahore',\n",
       " 'islamabad',\n",
       " 'rawalpindi',\n",
       " 'sukhur',\n",
       " 'london',\n",
       " 'gujrawala',\n",
       " 'fasialabad']"
      ]
     },
     "execution_count": 53,
     "metadata": {},
     "output_type": "execute_result"
    }
   ],
   "source": [
    "cities.append('fasialabad')#Add element from the last in array\n",
    "cities"
   ]
  },
  {
   "cell_type": "code",
   "execution_count": null,
   "metadata": {},
   "outputs": [
    {
     "data": {
      "text/plain": [
       "['atlanta',\n",
       " 'new york',\n",
       " 'lahore',\n",
       " 'islamabad',\n",
       " 'rawalpindi',\n",
       " 'sukhur',\n",
       " 'london',\n",
       " 'gujrawala',\n",
       " 'fasialabad']"
      ]
     },
     "execution_count": 54,
     "metadata": {},
     "output_type": "execute_result"
    }
   ],
   "source": [
    "cities.insert(0,\"atlanta\") #insert with index(location for insert) and string(what you want to insert)\n",
    "cities"
   ]
  },
  {
   "cell_type": "code",
   "execution_count": null,
   "metadata": {},
   "outputs": [
    {
     "data": {
      "text/plain": [
       "['new york',\n",
       " 'lahore',\n",
       " 'islamabad',\n",
       " 'rawalpindi',\n",
       " 'sukhur',\n",
       " 'london',\n",
       " 'gujrawala',\n",
       " 'fasialabad']"
      ]
     },
     "execution_count": 55,
     "metadata": {},
     "output_type": "execute_result"
    }
   ],
   "source": [
    "cities.remove(\"atlanta\")#remove required name of element\n",
    "cities"
   ]
  },
  {
   "cell_type": "code",
   "execution_count": null,
   "metadata": {},
   "outputs": [
    {
     "data": {
      "text/plain": [
       "['lahore',\n",
       " 'islamabad',\n",
       " 'rawalpindi',\n",
       " 'sukhur',\n",
       " 'london',\n",
       " 'gujrawala',\n",
       " 'fasialabad']"
      ]
     },
     "execution_count": 56,
     "metadata": {},
     "output_type": "execute_result"
    }
   ],
   "source": [
    "del cities[0]#del delete the index\n",
    "cities"
   ]
  },
  {
   "cell_type": "code",
   "execution_count": null,
   "metadata": {},
   "outputs": [
    {
     "data": {
      "text/plain": [
       "['lahore', 'islamabad', 'rawalpindi', 'sukhur', 'london', 'gujrawala']"
      ]
     },
     "execution_count": 57,
     "metadata": {},
     "output_type": "execute_result"
    }
   ],
   "source": [
    "cities.pop()# pop when empty remove the last and if we put indexing it will remove/delete the give index\n",
    "cities"
   ]
  }
 ],
 "metadata": {
  "kernelspec": {
   "display_name": "Python 3",
   "language": "python",
   "name": "python3"
  },
  "language_info": {
   "codemirror_mode": {
    "name": "ipython",
    "version": 3
   },
   "file_extension": ".py",
   "mimetype": "text/x-python",
   "name": "python",
   "nbconvert_exporter": "python",
   "pygments_lexer": "ipython3",
   "version": "3.12.1"
  }
 },
 "nbformat": 4,
 "nbformat_minor": 2
}
